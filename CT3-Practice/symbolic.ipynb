{
 "cells": [
  {
   "cell_type": "code",
   "execution_count": 2,
   "metadata": {},
   "outputs": [
    {
     "name": "stdout",
     "output_type": "stream",
     "text": [
      "Requirement already satisfied: sympy in /opt/anaconda3/envs/Dev/lib/python3.10/site-packages (1.10.1)\n",
      "Requirement already satisfied: mpmath>=0.19 in /opt/anaconda3/envs/Dev/lib/python3.10/site-packages (from sympy) (1.2.1)\n",
      "Note: you may need to restart the kernel to use updated packages.\n"
     ]
    }
   ],
   "source": [
    "pip install sympy"
   ]
  },
  {
   "cell_type": "code",
   "execution_count": 4,
   "metadata": {},
   "outputs": [
    {
     "name": "stdout",
     "output_type": "stream",
     "text": [
      "1.414213562373095048801688724209698078569671875376948073176679737990732478462107038850387534327641573\n"
     ]
    }
   ],
   "source": [
    "import sympy as sym\n",
    "value = sym.sqrt(2)\n",
    "\n",
    "print(value.evalf(100))"
   ]
  },
  {
   "cell_type": "code",
   "execution_count": 5,
   "metadata": {},
   "outputs": [
    {
     "name": "stdout",
     "output_type": "stream",
     "text": [
      "0.833333333333333\n"
     ]
    }
   ],
   "source": [
    "import sympy as sym\n",
    "\n",
    "value1 = sym.Rational(1/2)\n",
    "value2 = sym.Rational(1/3)\n",
    "sum = value1.evalf() + value2.evalf()\n",
    "print(sum)"
   ]
  },
  {
   "cell_type": "code",
   "execution_count": 6,
   "metadata": {},
   "outputs": [
    {
     "name": "stdout",
     "output_type": "stream",
     "text": [
      "X**6 + 6.0*X**5*Y + 15.0*X**4*Y**2 + 20.0*X**3*Y**3 + 15.0*X**2*Y**4 + 6.0*X*Y**5 + Y**6\n"
     ]
    }
   ],
   "source": [
    "x = sym.Symbol(\"X\")\n",
    "y = sym.Symbol(\"Y\")\n",
    "\n",
    "value = sym.expand((x+y)**6)\n",
    "print(value.evalf())"
   ]
  },
  {
   "cell_type": "code",
   "execution_count": 7,
   "metadata": {},
   "outputs": [
    {
     "name": "stdout",
     "output_type": "stream",
     "text": [
      "tan(X)\n"
     ]
    }
   ],
   "source": [
    "x = sym.Symbol(\"X\")\n",
    "y = sym.Symbol(\"Y\")\n",
    "\n",
    "value = sym.simplify(sym.sin(x)/sym.cos(x), trig=True)\n",
    "print(value.evalf())"
   ]
  },
  {
   "cell_type": "code",
   "execution_count": 8,
   "metadata": {},
   "outputs": [
    {
     "name": "stdout",
     "output_type": "stream",
     "text": [
      "sin(X)*cos(Y) + sin(Y)*cos(X)\n"
     ]
    }
   ],
   "source": [
    "value = sym.expand(sym.sin(x+y), trig=True)\n",
    "print(value.evalf())"
   ]
  },
  {
   "cell_type": "code",
   "execution_count": 9,
   "metadata": {},
   "outputs": [
    {
     "name": "stdout",
     "output_type": "stream",
     "text": [
      "Limit((-X + sin(X))/X**3, X, 0)\n"
     ]
    }
   ],
   "source": [
    "value = sym.Limit((sym.sin(x)-x)/x**3, x, 0)\n",
    "print(value.evalf())"
   ]
  },
  {
   "cell_type": "code",
   "execution_count": 14,
   "metadata": {},
   "outputs": [
    {
     "name": "stdout",
     "output_type": "stream",
     "text": [
      "1/X\n"
     ]
    }
   ],
   "source": [
    "value = sym.diff(sym.log(x),x)\n",
    "print(value.evalf())"
   ]
  },
  {
   "cell_type": "code",
   "execution_count": 15,
   "metadata": {},
   "outputs": [
    {
     "name": "stdout",
     "output_type": "stream",
     "text": [
      "-1/X**2\n"
     ]
    }
   ],
   "source": [
    "value = sym.diff(1/x,x)\n",
    "print(value.evalf())"
   ]
  },
  {
   "cell_type": "code",
   "execution_count": 17,
   "metadata": {},
   "outputs": [
    {
     "name": "stdout",
     "output_type": "stream",
     "text": [
      "-sin(X) + cos(X)\n"
     ]
    }
   ],
   "source": [
    "value = sym.diff(sym.sin(x)+sym.cos(x),x)\n",
    "print(value.evalf())"
   ]
  },
  {
   "cell_type": "code",
   "execution_count": 29,
   "metadata": {},
   "outputs": [
    {
     "name": "stdout",
     "output_type": "stream",
     "text": [
      "{X: 2, Y: -4}\n"
     ]
    }
   ],
   "source": [
    "import sympy as sym\n",
    "\n",
    "x = sym.Symbol(\"X\")\n",
    "y = sym.Symbol(\"Y\")\n",
    "Eq1 = sym.Eq(x+y,-2)\n",
    "Eq2 = sym.Eq(x+x+y,0)\n",
    "value = sym.solve((Eq1,Eq2),(x,y))\n",
    "print(value)"
   ]
  },
  {
   "cell_type": "code",
   "execution_count": 31,
   "metadata": {},
   "outputs": [
    {
     "name": "stdout",
     "output_type": "stream",
     "text": [
      "X**3/3\n"
     ]
    }
   ],
   "source": [
    "value = sym.integrate(x**2,x)\n",
    "print(value)"
   ]
  },
  {
   "cell_type": "code",
   "execution_count": 33,
   "metadata": {},
   "outputs": [
    {
     "name": "stdout",
     "output_type": "stream",
     "text": [
      "sin(X)\n"
     ]
    }
   ],
   "source": [
    "value = sym.integrate(sym.cos(x),x)\n",
    "print(value)"
   ]
  },
  {
   "cell_type": "code",
   "execution_count": 47,
   "metadata": {},
   "outputs": [
    {
     "name": "stdout",
     "output_type": "stream",
     "text": [
      "{X: 5, Y: 3, Z: -2}\n"
     ]
    }
   ],
   "source": [
    "X = sym.Symbol(\"X\")\n",
    "Y = sym.Symbol(\"Y\")\n",
    "Z = sym.Symbol(\"Z\")\n",
    "A = sym.Matrix([[1,1,1],[0,2,5],[2,5,-1]])\n",
    "B = sym.Matrix([[X],[Y],[Z]])\n",
    "C = sym.Matrix([[6],[-4],[27]])\n",
    "Eq1 = sym.Eq(A*B,C)\n",
    "value = sym.solve(Eq1, (X,Y,Z))\n",
    "print(value)"
   ]
  },
  {
   "cell_type": "code",
   "execution_count": 3,
   "metadata": {},
   "outputs": [
    {
     "name": "stdout",
     "output_type": "stream",
     "text": [
      "y + 1\n"
     ]
    }
   ],
   "source": [
    "from sympy import *\n",
    "x = Symbol('x')\n",
    "y = Symbol('y')\n",
    "print(simplify((x+x*y)/x))"
   ]
  },
  {
   "cell_type": "code",
   "execution_count": 4,
   "metadata": {},
   "outputs": [
    {
     "ename": "AttributeError",
     "evalue": "module 'collections' has no attribute 'MutableSequence'",
     "output_type": "error",
     "traceback": [
      "\u001b[0;31m---------------------------------------------------------------------------\u001b[0m",
      "\u001b[0;31mAttributeError\u001b[0m                            Traceback (most recent call last)",
      "\u001b[1;32m/Users/vikash/Desktop/Development/Python/APP-Lab-Dharsan-fork/CT3-Practice/symbolic.ipynb Cell 16\u001b[0m in \u001b[0;36m<cell line: 1>\u001b[0;34m()\u001b[0m\n\u001b[0;32m----> <a href='vscode-notebook-cell:/Users/vikash/Desktop/Development/Python/APP-Lab-Dharsan-fork/CT3-Practice/symbolic.ipynb#ch0000015?line=0'>1</a>\u001b[0m \u001b[39mfrom\u001b[39;00m \u001b[39mpyDatalog\u001b[39;00m \u001b[39mimport\u001b[39;00m pyDatalog\n\u001b[1;32m      <a href='vscode-notebook-cell:/Users/vikash/Desktop/Development/Python/APP-Lab-Dharsan-fork/CT3-Practice/symbolic.ipynb#ch0000015?line=1'>2</a>\u001b[0m \u001b[39mdef\u001b[39;00m \u001b[39mtwice\u001b[39m(a):\n\u001b[1;32m      <a href='vscode-notebook-cell:/Users/vikash/Desktop/Development/Python/APP-Lab-Dharsan-fork/CT3-Practice/symbolic.ipynb#ch0000015?line=2'>3</a>\u001b[0m     \u001b[39mreturn\u001b[39;00m a\u001b[39m+\u001b[39ma\n",
      "File \u001b[0;32m/opt/anaconda3/envs/Dev/lib/python3.10/site-packages/pyDatalog/pyDatalog.py:59\u001b[0m, in \u001b[0;36m<module>\u001b[0;34m\u001b[0m\n\u001b[1;32m     57\u001b[0m     \u001b[39mfrom\u001b[39;00m \u001b[39m.\u001b[39;00m \u001b[39mimport\u001b[39;00m Logic\n\u001b[1;32m     58\u001b[0m     \u001b[39mfrom\u001b[39;00m \u001b[39m.\u001b[39;00m \u001b[39mimport\u001b[39;00m pyEngine\n\u001b[0;32m---> 59\u001b[0m     \u001b[39mfrom\u001b[39;00m \u001b[39m.\u001b[39;00m \u001b[39mimport\u001b[39;00m pyParser\n\u001b[1;32m     60\u001b[0m     \u001b[39mfrom\u001b[39;00m \u001b[39m.\u001b[39;00m \u001b[39mimport\u001b[39;00m util\n\u001b[1;32m     61\u001b[0m \u001b[39mexcept\u001b[39;00m \u001b[39mValueError\u001b[39;00m:\n",
      "File \u001b[0;32m/opt/anaconda3/envs/Dev/lib/python3.10/site-packages/pyDatalog/pyParser.py:84\u001b[0m, in \u001b[0;36m<module>\u001b[0;34m\u001b[0m\n\u001b[1;32m     82\u001b[0m     \u001b[39mfrom\u001b[39;00m \u001b[39m.\u001b[39;00m \u001b[39mimport\u001b[39;00m pyEngine\n\u001b[1;32m     83\u001b[0m     \u001b[39mfrom\u001b[39;00m \u001b[39m.\u001b[39;00m \u001b[39mimport\u001b[39;00m util\n\u001b[0;32m---> 84\u001b[0m     \u001b[39mfrom\u001b[39;00m \u001b[39m.\u001b[39;00m \u001b[39mimport\u001b[39;00m UserList\n\u001b[1;32m     85\u001b[0m \u001b[39mexcept\u001b[39;00m \u001b[39mValueError\u001b[39;00m:\n\u001b[1;32m     86\u001b[0m     \u001b[39mimport\u001b[39;00m \u001b[39mpyEngine\u001b[39;00m\n",
      "File \u001b[0;32m/opt/anaconda3/envs/Dev/lib/python3.10/site-packages/pyDatalog/UserList.py:5\u001b[0m, in \u001b[0;36m<module>\u001b[0;34m\u001b[0m\n\u001b[1;32m      1\u001b[0m \u001b[39m\"\"\"A more or less complete user-defined wrapper around list objects.\"\"\"\u001b[39;00m\n\u001b[1;32m      3\u001b[0m \u001b[39mimport\u001b[39;00m \u001b[39mcollections\u001b[39;00m\n\u001b[0;32m----> 5\u001b[0m \u001b[39mclass\u001b[39;00m \u001b[39mUserList\u001b[39;00m(collections\u001b[39m.\u001b[39;49mMutableSequence):\n\u001b[1;32m      6\u001b[0m     \u001b[39mdef\u001b[39;00m \u001b[39m__init__\u001b[39m(\u001b[39mself\u001b[39m, initlist\u001b[39m=\u001b[39m\u001b[39mNone\u001b[39;00m):\n\u001b[1;32m      7\u001b[0m         \u001b[39mself\u001b[39m\u001b[39m.\u001b[39mdata \u001b[39m=\u001b[39m []\n",
      "\u001b[0;31mAttributeError\u001b[0m: module 'collections' has no attribute 'MutableSequence'"
     ]
    }
   ],
   "source": [
    "from pyDatalog import pyDatalog\n",
    "def twice(a):\n",
    "    return a+a\n",
    "pyDatalog.create_terms('twice')\n",
    "print((X==1) & (Y==twice(X)))"
   ]
  },
  {
   "cell_type": "code",
   "execution_count": null,
   "metadata": {},
   "outputs": [
    {
     "ename": "AttributeError",
     "evalue": "module 'collections' has no attribute 'MutableSequence'",
     "output_type": "error",
     "traceback": [
      "\u001b[0;31m---------------------------------------------------------------------------\u001b[0m",
      "\u001b[0;31mAttributeError\u001b[0m                            Traceback (most recent call last)",
      "\u001b[1;32m/Users/vikash/Desktop/Development/Python/APP-Lab-Dharsan-fork/CT3-Practice/symbolic.ipynb Cell 17\u001b[0m in \u001b[0;36m<cell line: 1>\u001b[0;34m()\u001b[0m\n\u001b[0;32m----> <a href='vscode-notebook-cell:/Users/vikash/Desktop/Development/Python/APP-Lab-Dharsan-fork/CT3-Practice/symbolic.ipynb#ch0000016?line=0'>1</a>\u001b[0m \u001b[39mfrom\u001b[39;00m \u001b[39mpyDatalog\u001b[39;00m \u001b[39mimport\u001b[39;00m pyDatalog\n\u001b[1;32m      <a href='vscode-notebook-cell:/Users/vikash/Desktop/Development/Python/APP-Lab-Dharsan-fork/CT3-Practice/symbolic.ipynb#ch0000016?line=1'>2</a>\u001b[0m pyDatalog\u001b[39m.\u001b[39mcreate_terms(\u001b[39m'\u001b[39m\u001b[39mX, Y\u001b[39m\u001b[39m'\u001b[39m)\n\u001b[1;32m      <a href='vscode-notebook-cell:/Users/vikash/Desktop/Development/Python/APP-Lab-Dharsan-fork/CT3-Practice/symbolic.ipynb#ch0000016?line=2'>3</a>\u001b[0m \u001b[39mprint\u001b[39m((Y\u001b[39m==\u001b[39m\u001b[39m1\u001b[39m) \u001b[39m&\u001b[39m (Y\u001b[39m==\u001b[39mX\u001b[39m+\u001b[39m\u001b[39m1\u001b[39m))\n",
      "File \u001b[0;32m/opt/anaconda3/envs/Dev/lib/python3.10/site-packages/pyDatalog/pyDatalog.py:59\u001b[0m, in \u001b[0;36m<module>\u001b[0;34m\u001b[0m\n\u001b[1;32m     57\u001b[0m     \u001b[39mfrom\u001b[39;00m \u001b[39m.\u001b[39;00m \u001b[39mimport\u001b[39;00m Logic\n\u001b[1;32m     58\u001b[0m     \u001b[39mfrom\u001b[39;00m \u001b[39m.\u001b[39;00m \u001b[39mimport\u001b[39;00m pyEngine\n\u001b[0;32m---> 59\u001b[0m     \u001b[39mfrom\u001b[39;00m \u001b[39m.\u001b[39;00m \u001b[39mimport\u001b[39;00m pyParser\n\u001b[1;32m     60\u001b[0m     \u001b[39mfrom\u001b[39;00m \u001b[39m.\u001b[39;00m \u001b[39mimport\u001b[39;00m util\n\u001b[1;32m     61\u001b[0m \u001b[39mexcept\u001b[39;00m \u001b[39mValueError\u001b[39;00m:\n",
      "File \u001b[0;32m/opt/anaconda3/envs/Dev/lib/python3.10/site-packages/pyDatalog/pyParser.py:84\u001b[0m, in \u001b[0;36m<module>\u001b[0;34m\u001b[0m\n\u001b[1;32m     82\u001b[0m     \u001b[39mfrom\u001b[39;00m \u001b[39m.\u001b[39;00m \u001b[39mimport\u001b[39;00m pyEngine\n\u001b[1;32m     83\u001b[0m     \u001b[39mfrom\u001b[39;00m \u001b[39m.\u001b[39;00m \u001b[39mimport\u001b[39;00m util\n\u001b[0;32m---> 84\u001b[0m     \u001b[39mfrom\u001b[39;00m \u001b[39m.\u001b[39;00m \u001b[39mimport\u001b[39;00m UserList\n\u001b[1;32m     85\u001b[0m \u001b[39mexcept\u001b[39;00m \u001b[39mValueError\u001b[39;00m:\n\u001b[1;32m     86\u001b[0m     \u001b[39mimport\u001b[39;00m \u001b[39mpyEngine\u001b[39;00m\n",
      "File \u001b[0;32m/opt/anaconda3/envs/Dev/lib/python3.10/site-packages/pyDatalog/UserList.py:5\u001b[0m, in \u001b[0;36m<module>\u001b[0;34m\u001b[0m\n\u001b[1;32m      1\u001b[0m \u001b[39m\"\"\"A more or less complete user-defined wrapper around list objects.\"\"\"\u001b[39;00m\n\u001b[1;32m      3\u001b[0m \u001b[39mimport\u001b[39;00m \u001b[39mcollections\u001b[39;00m\n\u001b[0;32m----> 5\u001b[0m \u001b[39mclass\u001b[39;00m \u001b[39mUserList\u001b[39;00m(collections\u001b[39m.\u001b[39;49mMutableSequence):\n\u001b[1;32m      6\u001b[0m     \u001b[39mdef\u001b[39;00m \u001b[39m__init__\u001b[39m(\u001b[39mself\u001b[39m, initlist\u001b[39m=\u001b[39m\u001b[39mNone\u001b[39;00m):\n\u001b[1;32m      7\u001b[0m         \u001b[39mself\u001b[39m\u001b[39m.\u001b[39mdata \u001b[39m=\u001b[39m []\n",
      "\u001b[0;31mAttributeError\u001b[0m: module 'collections' has no attribute 'MutableSequence'"
     ]
    }
   ],
   "source": []
  }
 ],
 "metadata": {
  "kernelspec": {
   "display_name": "Python 3.10.4 ('Dev')",
   "language": "python",
   "name": "python3"
  },
  "language_info": {
   "codemirror_mode": {
    "name": "ipython",
    "version": 3
   },
   "file_extension": ".py",
   "mimetype": "text/x-python",
   "name": "python",
   "nbconvert_exporter": "python",
   "pygments_lexer": "ipython3",
   "version": "3.10.4"
  },
  "orig_nbformat": 4,
  "vscode": {
   "interpreter": {
    "hash": "6bdad4c9066877ec84133d812a3403c02ee798ca52fe02f6fd9b6802a2a3fd92"
   }
  }
 },
 "nbformat": 4,
 "nbformat_minor": 2
}
