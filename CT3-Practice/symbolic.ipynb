{
 "cells": [
  {
   "cell_type": "code",
   "execution_count": 2,
   "metadata": {},
   "outputs": [
    {
     "name": "stdout",
     "output_type": "stream",
     "text": [
      "Requirement already satisfied: sympy in /opt/anaconda3/envs/Dev/lib/python3.10/site-packages (1.10.1)\n",
      "Requirement already satisfied: mpmath>=0.19 in /opt/anaconda3/envs/Dev/lib/python3.10/site-packages (from sympy) (1.2.1)\n",
      "Note: you may need to restart the kernel to use updated packages.\n"
     ]
    }
   ],
   "source": [
    "pip install sympy"
   ]
  },
  {
   "cell_type": "code",
   "execution_count": 4,
   "metadata": {},
   "outputs": [
    {
     "name": "stdout",
     "output_type": "stream",
     "text": [
      "1.414213562373095048801688724209698078569671875376948073176679737990732478462107038850387534327641573\n"
     ]
    }
   ],
   "source": [
    "import sympy as sym\n",
    "value = sym.sqrt(2)\n",
    "\n",
    "print(value.evalf(100))"
   ]
  },
  {
   "cell_type": "code",
   "execution_count": 5,
   "metadata": {},
   "outputs": [
    {
     "name": "stdout",
     "output_type": "stream",
     "text": [
      "0.833333333333333\n"
     ]
    }
   ],
   "source": [
    "import sympy as sym\n",
    "\n",
    "value1 = sym.Rational(1/2)\n",
    "value2 = sym.Rational(1/3)\n",
    "sum = value1.evalf() + value2.evalf()\n",
    "print(sum)"
   ]
  },
  {
   "cell_type": "code",
   "execution_count": 6,
   "metadata": {},
   "outputs": [
    {
     "name": "stdout",
     "output_type": "stream",
     "text": [
      "X**6 + 6.0*X**5*Y + 15.0*X**4*Y**2 + 20.0*X**3*Y**3 + 15.0*X**2*Y**4 + 6.0*X*Y**5 + Y**6\n"
     ]
    }
   ],
   "source": [
    "x = sym.Symbol(\"X\")\n",
    "y = sym.Symbol(\"Y\")\n",
    "\n",
    "value = sym.expand((x+y)**6)\n",
    "print(value.evalf())"
   ]
  },
  {
   "cell_type": "code",
   "execution_count": 7,
   "metadata": {},
   "outputs": [
    {
     "name": "stdout",
     "output_type": "stream",
     "text": [
      "tan(X)\n"
     ]
    }
   ],
   "source": [
    "x = sym.Symbol(\"X\")\n",
    "y = sym.Symbol(\"Y\")\n",
    "\n",
    "value = sym.simplify(sym.sin(x)/sym.cos(x), trig=True)\n",
    "print(value.evalf())"
   ]
  },
  {
   "cell_type": "code",
   "execution_count": 8,
   "metadata": {},
   "outputs": [
    {
     "name": "stdout",
     "output_type": "stream",
     "text": [
      "sin(X)*cos(Y) + sin(Y)*cos(X)\n"
     ]
    }
   ],
   "source": [
    "value = sym.expand(sym.sin(x+y), trig=True)\n",
    "print(value.evalf())"
   ]
  },
  {
   "cell_type": "code",
   "execution_count": 9,
   "metadata": {},
   "outputs": [
    {
     "name": "stdout",
     "output_type": "stream",
     "text": [
      "Limit((-X + sin(X))/X**3, X, 0)\n"
     ]
    }
   ],
   "source": [
    "value = sym.Limit((sym.sin(x)-x)/x**3, x, 0)\n",
    "print(value.evalf())"
   ]
  },
  {
   "cell_type": "code",
   "execution_count": 14,
   "metadata": {},
   "outputs": [
    {
     "name": "stdout",
     "output_type": "stream",
     "text": [
      "1/X\n"
     ]
    }
   ],
   "source": [
    "value = sym.diff(sym.log(x),x)\n",
    "print(value.evalf())"
   ]
  },
  {
   "cell_type": "code",
   "execution_count": 15,
   "metadata": {},
   "outputs": [
    {
     "name": "stdout",
     "output_type": "stream",
     "text": [
      "-1/X**2\n"
     ]
    }
   ],
   "source": [
    "value = sym.diff(1/x,x)\n",
    "print(value.evalf())"
   ]
  },
  {
   "cell_type": "code",
   "execution_count": 17,
   "metadata": {},
   "outputs": [
    {
     "name": "stdout",
     "output_type": "stream",
     "text": [
      "-sin(X) + cos(X)\n"
     ]
    }
   ],
   "source": [
    "value = sym.diff(sym.sin(x)+sym.cos(x),x)\n",
    "print(value.evalf())"
   ]
  },
  {
   "cell_type": "code",
   "execution_count": 29,
   "metadata": {},
   "outputs": [
    {
     "name": "stdout",
     "output_type": "stream",
     "text": [
      "{X: 2, Y: -4}\n"
     ]
    }
   ],
   "source": [
    "import sympy as sym\n",
    "\n",
    "x = sym.Symbol(\"X\")\n",
    "y = sym.Symbol(\"Y\")\n",
    "Eq1 = sym.Eq(x+y,-2)\n",
    "Eq2 = sym.Eq(x+x+y,0)\n",
    "value = sym.solve((Eq1,Eq2),(x,y))\n",
    "print(value)"
   ]
  },
  {
   "cell_type": "code",
   "execution_count": 31,
   "metadata": {},
   "outputs": [
    {
     "name": "stdout",
     "output_type": "stream",
     "text": [
      "X**3/3\n"
     ]
    }
   ],
   "source": [
    "value = sym.integrate(x**2,x)\n",
    "print(value)"
   ]
  },
  {
   "cell_type": "code",
   "execution_count": 33,
   "metadata": {},
   "outputs": [
    {
     "name": "stdout",
     "output_type": "stream",
     "text": [
      "sin(X)\n"
     ]
    }
   ],
   "source": [
    "value = sym.integrate(sym.cos(x),x)\n",
    "print(value)"
   ]
  },
  {
   "cell_type": "code",
   "execution_count": 47,
   "metadata": {},
   "outputs": [
    {
     "name": "stdout",
     "output_type": "stream",
     "text": [
      "{X: 5, Y: 3, Z: -2}\n"
     ]
    }
   ],
   "source": [
    "X = sym.Symbol(\"X\")\n",
    "Y = sym.Symbol(\"Y\")\n",
    "Z = sym.Symbol(\"Z\")\n",
    "A = sym.Matrix([[1,1,1],[0,2,5],[2,5,-1]])\n",
    "B = sym.Matrix([[X],[Y],[Z]])\n",
    "C = sym.Matrix([[6],[-4],[27]])\n",
    "Eq1 = sym.Eq(A*B,C)\n",
    "value = sym.solve(Eq1, (X,Y,Z))\n",
    "print(value)"
   ]
  }
 ],
 "metadata": {
  "kernelspec": {
   "display_name": "Python 3.10.4 ('Dev')",
   "language": "python",
   "name": "python3"
  },
  "language_info": {
   "codemirror_mode": {
    "name": "ipython",
    "version": 3
   },
   "file_extension": ".py",
   "mimetype": "text/x-python",
   "name": "python",
   "nbconvert_exporter": "python",
   "pygments_lexer": "ipython3",
   "version": "3.10.4"
  },
  "orig_nbformat": 4,
  "vscode": {
   "interpreter": {
    "hash": "6bdad4c9066877ec84133d812a3403c02ee798ca52fe02f6fd9b6802a2a3fd92"
   }
  }
 },
 "nbformat": 4,
 "nbformat_minor": 2
}
