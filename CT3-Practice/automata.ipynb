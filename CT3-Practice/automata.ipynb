{
 "cells": [
  {
   "cell_type": "code",
   "execution_count": 2,
   "metadata": {},
   "outputs": [
    {
     "name": "stdout",
     "output_type": "stream",
     "text": [
      "Requirement already satisfied: automata-lib in /opt/anaconda3/envs/Dev/lib/python3.10/site-packages (5.0.0)\n",
      "Requirement already satisfied: pydot in /opt/anaconda3/envs/Dev/lib/python3.10/site-packages (from automata-lib) (1.4.2)\n",
      "Requirement already satisfied: pyparsing>=2.1.4 in /opt/anaconda3/envs/Dev/lib/python3.10/site-packages (from pydot->automata-lib) (3.0.9)\n",
      "Note: you may need to restart the kernel to use updated packages.\n"
     ]
    }
   ],
   "source": [
    "pip install automata-lib"
   ]
  },
  {
   "cell_type": "code",
   "execution_count": 5,
   "metadata": {},
   "outputs": [
    {
     "name": "stdout",
     "output_type": "stream",
     "text": [
      "accepted\n",
      "accepted\n",
      "accepted\n"
     ]
    }
   ],
   "source": [
    "from automata.fa.dfa import DFA\n",
    "# DFA which matches all binary strings ending in an odd number of '1's\n",
    "dfa = DFA(\n",
    "    states={'q0', 'q1', 'q2'},\n",
    "    input_symbols={'0', '1'},\n",
    "    transitions={\n",
    "        'q0': {'0': 'q0', '1': 'q1'},\n",
    "        'q1': {'0': 'q0', '1': 'q2'},\n",
    "        'q2': {'0': 'q2', '1': 'q1'}\n",
    "    },\n",
    "    initial_state='q0',\n",
    "    final_states={'q1'}\n",
    ")\n",
    "\n",
    "for i in range(1,4):\n",
    "    num = input(\"Enter the string: \")\n",
    "    if dfa.accepts_input(num):\n",
    "        print('accepted')\n",
    "    else:\n",
    "        print('rejected')"
   ]
  },
  {
   "cell_type": "code",
   "execution_count": 19,
   "metadata": {},
   "outputs": [
    {
     "name": "stdout",
     "output_type": "stream",
     "text": [
      "Rejected\n",
      "Accepted\n",
      "Accepted\n"
     ]
    }
   ],
   "source": [
    "from automata.fa.dfa import DFA\n",
    "\n",
    "dfa = DFA(\n",
    "    states={'q0','q1'},\n",
    "    input_symbols = {'0','1'},\n",
    "    transitions={\n",
    "        'q0' : {'0':'q0','1':'q1'},\n",
    "        'q1' : {'0':'q1', '1': 'q0'}\n",
    "    },\n",
    "    initial_state='q0',\n",
    "    final_states={'q0'}\n",
    ")\n",
    "\n",
    "for i in range(1,4):\n",
    "    num = input(\"Enter the binary number: \")\n",
    "    if dfa.accepts_input(num):\n",
    "        print(\"Accepted\")\n",
    "    else:\n",
    "        print(\"Rejected\")"
   ]
  },
  {
   "cell_type": "code",
   "execution_count": 22,
   "metadata": {},
   "outputs": [
    {
     "name": "stdout",
     "output_type": "stream",
     "text": [
      "Accepted\n",
      "Accepted\n",
      "Accepted\n"
     ]
    }
   ],
   "source": [
    "from automata.fa.dfa import DFA\n",
    "\n",
    "dfa = DFA(\n",
    "    states={'q0'},\n",
    "    input_symbols= {'0','1'},\n",
    "    transitions={\n",
    "        'q0':{'0':'q0','1':'q0'}\n",
    "    },\n",
    "    initial_state= 'q0',\n",
    "    final_states={'q0'}\n",
    ")\n",
    "\n",
    "for i in range(1,4):\n",
    "    num = input(\"Enter the binary num kiddo: \")\n",
    "    if dfa.accepts_input(num):\n",
    "        print(\"Accepted\")\n",
    "    else:\n",
    "        print(\"Rejected\")"
   ]
  },
  {
   "cell_type": "code",
   "execution_count": null,
   "metadata": {},
   "outputs": [],
   "source": []
  }
 ],
 "metadata": {
  "kernelspec": {
   "display_name": "Python 3.10.4 ('Dev')",
   "language": "python",
   "name": "python3"
  },
  "language_info": {
   "codemirror_mode": {
    "name": "ipython",
    "version": 3
   },
   "file_extension": ".py",
   "mimetype": "text/x-python",
   "name": "python",
   "nbconvert_exporter": "python",
   "pygments_lexer": "ipython3",
   "version": "3.10.4"
  },
  "orig_nbformat": 4,
  "vscode": {
   "interpreter": {
    "hash": "6bdad4c9066877ec84133d812a3403c02ee798ca52fe02f6fd9b6802a2a3fd92"
   }
  }
 },
 "nbformat": 4,
 "nbformat_minor": 2
}
