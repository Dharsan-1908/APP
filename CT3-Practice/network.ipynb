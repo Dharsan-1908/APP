{
 "cells": [
  {
   "cell_type": "code",
   "execution_count": 2,
   "metadata": {},
   "outputs": [
    {
     "name": "stdout",
     "output_type": "stream",
     "text": [
      "Socket Created\n",
      "Waiting for connections\n"
     ]
    }
   ],
   "source": [
    "import socket\n",
    "\n",
    "s = socket.socket()\n",
    "print(\"Socket Created\")\n",
    "\n",
    "s.bind((\"localhost\",8080))\n",
    "\n",
    "s.listen(3)\n",
    "print(\"Waiting for connections\")\n",
    "\n",
    "while True:\n",
    "    c,addr = s.accept()\n",
    "    name = c.recv(1024)\n",
    "    \n",
    "    print(\"Connected with\" , addr, name.decode(\"utf-8\"))\n",
    "    c.send(b\"Welcome to the server\")\n",
    "    c.close()"
   ]
  },
  {
   "cell_type": "code",
   "execution_count": null,
   "metadata": {},
   "outputs": [],
   "source": [
    "import socket\n",
    "\n",
    "c = socket.socket()\n",
    "\n",
    "c.connect((\"localhost\",8080))\n",
    "\n",
    "name = input(\"Enter your name: \")\n",
    "\n",
    "c.send(bytes(name.encode()))\n",
    "\n",
    "recvData = c.recv(1024)\n",
    "\n",
    "print(recvData.decode(\"utf-8\"))"
   ]
  }
 ],
 "metadata": {
  "kernelspec": {
   "display_name": "Python 3.10.4 ('Dev')",
   "language": "python",
   "name": "python3"
  },
  "language_info": {
   "codemirror_mode": {
    "name": "ipython",
    "version": 3
   },
   "file_extension": ".py",
   "mimetype": "text/x-python",
   "name": "python",
   "nbconvert_exporter": "python",
   "pygments_lexer": "ipython3",
   "version": "3.10.4"
  },
  "orig_nbformat": 4,
  "vscode": {
   "interpreter": {
    "hash": "6bdad4c9066877ec84133d812a3403c02ee798ca52fe02f6fd9b6802a2a3fd92"
   }
  }
 },
 "nbformat": 4,
 "nbformat_minor": 2
}
