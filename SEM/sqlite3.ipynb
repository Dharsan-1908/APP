{
 "cells": [
  {
   "cell_type": "code",
   "execution_count": null,
   "metadata": {},
   "outputs": [],
   "source": [
    "import sqlite3 \n",
    "conn_882=sqlite3.connect('week4.db') \n",
    "print(\"Opened database successfully\")\n",
    "conn_882.execute(\"CREATE TABLE recipes(id INT PRIMARY KEY NOT NULL,name VARCHAR,description TEXT,category_id INT,chef_id text,created DATETIME);\") \n",
    "print(\"Table created successfully\")\n",
    "conn_882.execute(\"INSERT INTO recipes VALUES(101,'Chicken Mugali','Indian',01,'BL00001','2022-02-14');\")\n",
    "conn_882.execute(\"INSERT INTO recipes VALUES(102,'Hakka noodels','Chinese',02,'BL00002','2022-02-14');\")\n",
    "conn_882.execute(\"INSERT INTO recipes VALUES(103,'Octopus Soup','Chinese',03,'BL00003','2022-02-14');\")\n",
    "conn_882.execute(\"INSERT INTO recipes VALUES(104,'Pasta','Italian',04,'BL00004','2022-02- 14');\")\n",
    "conn_882.execute(\"DROP TABLE recipes;\")\n",
    "conn_882.commit()\n",
    "\n",
    "print(\"Records inserted successfully\"); \n",
    "print(\"\\nDisplaying the table \\n\")\n",
    "for rows in conn_882.execute(\"SELECT * from recipes;\"):\n",
    "    print(rows) \n",
    "print(\"\\nPART A\\n\")\n",
    "for rows in conn_882.execute(\"SELECT * from recipes WHERE description='Chinese';\"): \n",
    "    print(rows)\n",
    "print(\"\\nPART B\\n\")\n",
    "for rows in conn_882.execute(\"SELECT id,name from recipes WHERE chef_id='BL00002';\"): \n",
    "    print(rows)\n",
    "print(\"\\nPART C\\n\")\n",
    "for rows in conn_882.execute(\"SELECT description from recipes WHERE name LIKE 'P%';\"): \n",
    "    print(rows)\n",
    "conn_882.close()"
   ]
  },
  {
   "cell_type": "code",
   "execution_count": 35,
   "metadata": {},
   "outputs": [
    {
     "name": "stdout",
     "output_type": "stream",
     "text": [
      "Connection successfully established\n",
      "Records inserted successfully\n",
      "PART A\n",
      "(101, 'briyani', 'asdf', 12, 'BL0001', '2022-2-6')\n",
      "(102, 'fish', 'qwer', 15, 'BL0002', '2022-4-5')\n",
      "(103, 'cat', 'aaaaa', 11, 'BL0003', '2022-5-8')\n",
      "(105, 'meow', 'zzz', 14, 'BL0004', '2022-9-8')\n",
      "PART B\n",
      "(101, 'briyani', 'asdf', 12, 'BL0001', '2022-2-6')\n",
      "PART C\n",
      "(102, 'fish')\n",
      "PART D\n",
      "('aaaaa',)\n"
     ]
    }
   ],
   "source": [
    "from site import execusercustomize\n",
    "import sqlite3\n",
    "conn = sqlite3.connect('test.db')\n",
    "print(\"Connection successfully established\")\n",
    "\n",
    "# conn.execute(\"CREATE TABLE recipes(id INT PRIMARY KEY NOT NULL,name VARCHAR, description TEXT, category_id INT, chef_id INT, created DATETIME);\")\n",
    "# conn.execute(\"INSERT INTO recipes VALUES(101, 'briyani', 'asdf', 12,'BL0001','2022-2-6');\")\n",
    "# conn.execute(\"INSERT INTO recipes VALUES(102, 'fish', 'qwer', 15,'BL0002','2022-4-5');\")\n",
    "# conn.execute(\"INSERT INTO recipes VALUES(103, 'cat', 'asdf', 11,'BL0003','2022-5-8');\")\n",
    "# conn.execute(\"INSERT INTO recipes VALUES(105, 'meow', 'zzz', 14,'BL0004','2022-9-8');\")\n",
    "\n",
    "conn.commit()\n",
    "print(\"Records inserted successfully\")\n",
    "\n",
    "print(\"PART A\")\n",
    "for rows in conn.execute(\"SELECT * from recipes;\"):\n",
    "    print(rows)\n",
    "\n",
    "print(\"PART B\")\n",
    "for rows in conn.execute(\"SELECT * from recipes where description='asdf';\"):\n",
    "    print(rows)\n",
    "    \n",
    "print(\"PART C\")\n",
    "for rows in conn.execute(\"SELECT id,name from recipes where chef_id='BL0002';\"):\n",
    "    print(rows)\n",
    "\n",
    "print(\"PART D\")\n",
    "for rows in conn.execute(\"SELECT description from recipes where name LIKE 'c%';\"):\n",
    "    print(rows)\n",
    "    \n",
    "conn.close()"
   ]
  }
 ],
 "metadata": {
  "kernelspec": {
   "display_name": "Python 3.10.4 ('Dev')",
   "language": "python",
   "name": "python3"
  },
  "language_info": {
   "codemirror_mode": {
    "name": "ipython",
    "version": 3
   },
   "file_extension": ".py",
   "mimetype": "text/x-python",
   "name": "python",
   "nbconvert_exporter": "python",
   "pygments_lexer": "ipython3",
   "version": "3.10.4"
  },
  "orig_nbformat": 4,
  "vscode": {
   "interpreter": {
    "hash": "6bdad4c9066877ec84133d812a3403c02ee798ca52fe02f6fd9b6802a2a3fd92"
   }
  }
 },
 "nbformat": 4,
 "nbformat_minor": 2
}
