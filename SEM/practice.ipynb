{
 "cells": [
  {
   "cell_type": "code",
   "execution_count": 6,
   "metadata": {},
   "outputs": [
    {
     "name": "stdout",
     "output_type": "stream",
     "text": [
      "20202\n",
      "Fail\n"
     ]
    }
   ],
   "source": [
    "class Student:\n",
    "    avg = 0\n",
    "    def __init__(self, stNo, m1, m2, m3, m4, m5):\n",
    "        self.studentNum = stNo\n",
    "        self.mark1, self.mark2, self.mark3, self.mark4, self.mark5 = m1,m2, m3, m4, m5\n",
    "    def avgMark(self):\n",
    "        self.avg = (self.mark1 + self.mark2 + self.mark3 + self.mark4 +\n",
    "                self.mark5) / 5\n",
    "    def grade(self):\n",
    "        if(self.avg >= 80):\n",
    "            print(\"Distinction\")\n",
    "        elif(self.avg >= 65 and self.avg < 80):\n",
    "            print(\"Merit\")\n",
    "        elif(self.avg >= 50 and self.avg < 65):\n",
    "            print(\"Pass\")\n",
    "        else:\n",
    "            print(\"Fail\")\n",
    "        \n",
    "obj = Student(\"20202\", 10, 20, 30, 40, 80)\n",
    "print(obj.studentNum)\n",
    "obj.grade()\n"
   ]
  },
  {
   "cell_type": "code",
   "execution_count": 8,
   "metadata": {},
   "outputs": [
    {
     "name": "stdout",
     "output_type": "stream",
     "text": [
      "2\n"
     ]
    }
   ],
   "source": [
    "times = 0\n",
    "def occurence(a, n, str):\n",
    "    #To access 'times' variable which is outside this function\n",
    "    global times\n",
    "    # Base Case\n",
    "    if n < 0:\n",
    "        return times\n",
    "    if str[n] == a:\n",
    "        times += 1  \n",
    "    # Recursion\n",
    "    return occurence(a, n-1, str)\n",
    "\n",
    "character = 'd'\n",
    "str = \"ddlj\"\n",
    "slen = len(str) - 1\n",
    "print(occurence(character, slen, str))"
   ]
  },
  {
   "cell_type": "code",
   "execution_count": 15,
   "metadata": {},
   "outputs": [
    {
     "name": "stdout",
     "output_type": "stream",
     "text": [
      "{'abc': 5, 'def': 6, 'ghi': 7}\n"
     ]
    }
   ],
   "source": [
    "d1={\"abc\":5,\"def\":6,\"ghi\":7}\n",
    "print(d1)"
   ]
  },
  {
   "cell_type": "code",
   "execution_count": 22,
   "metadata": {},
   "outputs": [
    {
     "name": "stdout",
     "output_type": "stream",
     "text": [
      "Result : 23 asdfasdf 1100\n",
      "Result : 234 asdfasdfasd 80\n"
     ]
    }
   ],
   "source": [
    "class Student:\n",
    "    def getStudentDetails(self):\n",
    "        self.rollno=input(\"Enter Roll Number : \")\n",
    "        self.name = input(\"Enter Name : \")\n",
    "        self.physics =int(input(\"Enter Physics Marks : \"))\n",
    "        self.chemistry = int(input(\"Enter Chemistry Marks : \"))\n",
    "        self.maths = int(input(\"Enter Math Marks : \"))\n",
    "\n",
    "    def printResult(self):\n",
    "        self.percentage = (int)( (self.physics + self.chemistry + self.maths) / 300 * 100 ); \n",
    "        print(self.rollno,self.name, self.percentage)\n",
    "\n",
    "\n",
    "S1=Student()\n",
    "for i in range(0,2):\n",
    "    S1.getStudentDetails()\n",
    "    print(\"Result : \",end=\"\")\n",
    "    S1.printResult()\n",
    "\n"
   ]
  },
  {
   "cell_type": "code",
   "execution_count": null,
   "metadata": {},
   "outputs": [],
   "source": [
    "from tkinter import *\n",
    "\n",
    "app = Tk()\n",
    "app.configure(background=\"Green\")\n",
    "\n",
    "def SetColor():\n",
    "    c = (color.get())\n",
    "    app.configure(background=c)\n",
    "color = StringVar()\n",
    "Entry(app,textvariable=color).grid(row=0,column=0)\n",
    "Button(app, text=\"SET\", command=SetColor).grid(row=1,column=0)\n",
    "app.geometry(\"300x300\")\n",
    "app.mainloop()"
   ]
  },
  {
   "cell_type": "code",
   "execution_count": 15,
   "metadata": {},
   "outputs": [
    {
     "name": "stdout",
     "output_type": "stream",
     "text": [
      "1 2 3 4 7 9 58 "
     ]
    }
   ],
   "source": [
    "import threading\n",
    "listItems = [4,2,3,1,58,7,9]\n",
    "def sortArr():\n",
    "    global listItems\n",
    "    listItems = sorted(listItems)\n",
    "    for i in listItems:\n",
    "        print(i, end=' ')\n",
    "\n",
    "mythread = threading.Thread(target=sortArr)\n",
    "mythread.start()"
   ]
  },
  {
   "cell_type": "code",
   "execution_count": 2,
   "metadata": {},
   "outputs": [],
   "source": [
    "from tkinter import *\n",
    "\n",
    "app = Tk()\n",
    "\n",
    "app.title(\"Noob XD\")\n",
    "for i in range(0,4):\n",
    "    for j in range(0,3):\n",
    "        Button(app, text=f\"Row {i} Column {j}\", padx=5, pady=5).grid(row=i,column=j)\n",
    "\n",
    "app.mainloop()"
   ]
  },
  {
   "cell_type": "code",
   "execution_count": 5,
   "metadata": {},
   "outputs": [
    {
     "name": "stdout",
     "output_type": "stream",
     "text": [
      "46\n",
      "12\n"
     ]
    }
   ],
   "source": [
    "from functools import reduce\n",
    "\n",
    "listItems = [1,3,5,8,9,8,12]\n",
    "\n",
    "print(reduce( lambda x,y:x+y,listItems))\n",
    "print(reduce(lambda x,y: x if x>y else y,listItems))\n",
    "\n"
   ]
  }
 ],
 "metadata": {
  "kernelspec": {
   "display_name": "Python 3.10.5 64-bit",
   "language": "python",
   "name": "python3"
  },
  "language_info": {
   "codemirror_mode": {
    "name": "ipython",
    "version": 3
   },
   "file_extension": ".py",
   "mimetype": "text/x-python",
   "name": "python",
   "nbconvert_exporter": "python",
   "pygments_lexer": "ipython3",
   "version": "3.10.5"
  },
  "orig_nbformat": 4,
  "vscode": {
   "interpreter": {
    "hash": "aee8b7b246df8f9039afb4144a1f6fd8d2ca17a180786b69acc140d282b71a49"
   }
  }
 },
 "nbformat": 4,
 "nbformat_minor": 2
}
