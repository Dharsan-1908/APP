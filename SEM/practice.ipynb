{
 "cells": [
  {
   "cell_type": "code",
   "execution_count": 54,
   "metadata": {},
   "outputs": [
    {
     "name": "stdout",
     "output_type": "stream",
     "text": [
      "20202\n",
      "Fail\n"
     ]
    }
   ],
   "source": [
    "class Student:\n",
    "    avg = 0\n",
    "    def __init__(self, stNo, m1, m2, m3, m4, m5):\n",
    "        self.studentNum = stNo\n",
    "        self.mark1, self.mark2, self.mark3, self.mark4, self.mark5 = m1,m2, m3, m4, m5\n",
    "    def avgMark(self):\n",
    "        self.avg = (self.mark1 + self.mark2 + self.mark3 + self.mark4 +\n",
    "                self.mark5) / 5\n",
    "    def grade(self):\n",
    "        if(self.avg >= 80):\n",
    "            print(\"Distinction\")\n",
    "        elif(self.avg >= 65 and self.avg < 80):\n",
    "            print(\"Merit\")\n",
    "        elif(self.avg >= 50 and self.avg < 65):\n",
    "            print(\"Pass\")\n",
    "        else:\n",
    "            print(\"Fail\")\n",
    "        \n",
    "obj = Student(\"20202\", 10, 20, 30, 40, 80)\n",
    "print(obj.studentNum)\n",
    "obj.grade()\n"
   ]
  },
  {
   "cell_type": "code",
   "execution_count": 55,
   "metadata": {},
   "outputs": [
    {
     "name": "stdout",
     "output_type": "stream",
     "text": [
      "2\n"
     ]
    }
   ],
   "source": [
    "times = 0\n",
    "def occurence(a, n, str):\n",
    "    #To access 'times' variable which is outside this function\n",
    "    global times\n",
    "    # Base Case\n",
    "    if n < 0:\n",
    "        return times\n",
    "    if str[n] == a:\n",
    "        times += 1  \n",
    "    # Recursion\n",
    "    return occurence(a, n-1, str)\n",
    "\n",
    "character = 'd'\n",
    "str = \"ddlj\"\n",
    "slen = len(str) - 1\n",
    "print(occurence(character, slen, str))"
   ]
  },
  {
   "cell_type": "code",
   "execution_count": 56,
   "metadata": {},
   "outputs": [
    {
     "name": "stdout",
     "output_type": "stream",
     "text": [
      "{'abc': 5, 'def': 6, 'ghi': 7}\n"
     ]
    }
   ],
   "source": [
    "d1={\"abc\":5,\"def\":6,\"ghi\":7}\n",
    "print(d1)"
   ]
  },
  {
   "cell_type": "code",
   "execution_count": 57,
   "metadata": {},
   "outputs": [
    {
     "ename": "KeyboardInterrupt",
     "evalue": "Interrupted by user",
     "output_type": "error",
     "traceback": [
      "\u001b[0;31m---------------------------------------------------------------------------\u001b[0m",
      "\u001b[0;31mKeyboardInterrupt\u001b[0m                         Traceback (most recent call last)",
      "\u001b[1;32m/Users/vikash/Desktop/Development/Python/APP-Lab-Dharsan-fork/SEM/practice.ipynb Cell 4\u001b[0m in \u001b[0;36m<cell line: 15>\u001b[0;34m()\u001b[0m\n\u001b[1;32m     <a href='vscode-notebook-cell:/Users/vikash/Desktop/Development/Python/APP-Lab-Dharsan-fork/SEM/practice.ipynb#ch0000003?line=13'>14</a>\u001b[0m S1\u001b[39m=\u001b[39mStudent()\n\u001b[1;32m     <a href='vscode-notebook-cell:/Users/vikash/Desktop/Development/Python/APP-Lab-Dharsan-fork/SEM/practice.ipynb#ch0000003?line=14'>15</a>\u001b[0m \u001b[39mfor\u001b[39;00m i \u001b[39min\u001b[39;00m \u001b[39mrange\u001b[39m(\u001b[39m0\u001b[39m,\u001b[39m2\u001b[39m):\n\u001b[0;32m---> <a href='vscode-notebook-cell:/Users/vikash/Desktop/Development/Python/APP-Lab-Dharsan-fork/SEM/practice.ipynb#ch0000003?line=15'>16</a>\u001b[0m     S1\u001b[39m.\u001b[39;49mgetStudentDetails()\n\u001b[1;32m     <a href='vscode-notebook-cell:/Users/vikash/Desktop/Development/Python/APP-Lab-Dharsan-fork/SEM/practice.ipynb#ch0000003?line=16'>17</a>\u001b[0m     \u001b[39mprint\u001b[39m(\u001b[39m\"\u001b[39m\u001b[39mResult : \u001b[39m\u001b[39m\"\u001b[39m,end\u001b[39m=\u001b[39m\u001b[39m\"\u001b[39m\u001b[39m\"\u001b[39m)\n\u001b[1;32m     <a href='vscode-notebook-cell:/Users/vikash/Desktop/Development/Python/APP-Lab-Dharsan-fork/SEM/practice.ipynb#ch0000003?line=17'>18</a>\u001b[0m     S1\u001b[39m.\u001b[39mprintResult()\n",
      "\u001b[1;32m/Users/vikash/Desktop/Development/Python/APP-Lab-Dharsan-fork/SEM/practice.ipynb Cell 4\u001b[0m in \u001b[0;36mStudent.getStudentDetails\u001b[0;34m(self)\u001b[0m\n\u001b[1;32m      <a href='vscode-notebook-cell:/Users/vikash/Desktop/Development/Python/APP-Lab-Dharsan-fork/SEM/practice.ipynb#ch0000003?line=1'>2</a>\u001b[0m \u001b[39mdef\u001b[39;00m \u001b[39mgetStudentDetails\u001b[39m(\u001b[39mself\u001b[39m):\n\u001b[0;32m----> <a href='vscode-notebook-cell:/Users/vikash/Desktop/Development/Python/APP-Lab-Dharsan-fork/SEM/practice.ipynb#ch0000003?line=2'>3</a>\u001b[0m     \u001b[39mself\u001b[39m\u001b[39m.\u001b[39mrollno\u001b[39m=\u001b[39m\u001b[39minput\u001b[39;49m(\u001b[39m\"\u001b[39;49m\u001b[39mEnter Roll Number : \u001b[39;49m\u001b[39m\"\u001b[39;49m)\n\u001b[1;32m      <a href='vscode-notebook-cell:/Users/vikash/Desktop/Development/Python/APP-Lab-Dharsan-fork/SEM/practice.ipynb#ch0000003?line=3'>4</a>\u001b[0m     \u001b[39mself\u001b[39m\u001b[39m.\u001b[39mname \u001b[39m=\u001b[39m \u001b[39minput\u001b[39m(\u001b[39m\"\u001b[39m\u001b[39mEnter Name : \u001b[39m\u001b[39m\"\u001b[39m)\n\u001b[1;32m      <a href='vscode-notebook-cell:/Users/vikash/Desktop/Development/Python/APP-Lab-Dharsan-fork/SEM/practice.ipynb#ch0000003?line=4'>5</a>\u001b[0m     \u001b[39mself\u001b[39m\u001b[39m.\u001b[39mphysics \u001b[39m=\u001b[39m\u001b[39mint\u001b[39m(\u001b[39minput\u001b[39m(\u001b[39m\"\u001b[39m\u001b[39mEnter Physics Marks : \u001b[39m\u001b[39m\"\u001b[39m))\n",
      "File \u001b[0;32m/Library/Frameworks/Python.framework/Versions/3.10/lib/python3.10/site-packages/ipykernel/kernelbase.py:1177\u001b[0m, in \u001b[0;36mKernel.raw_input\u001b[0;34m(self, prompt)\u001b[0m\n\u001b[1;32m   1173\u001b[0m \u001b[39mif\u001b[39;00m \u001b[39mnot\u001b[39;00m \u001b[39mself\u001b[39m\u001b[39m.\u001b[39m_allow_stdin:\n\u001b[1;32m   1174\u001b[0m     \u001b[39mraise\u001b[39;00m StdinNotImplementedError(\n\u001b[1;32m   1175\u001b[0m         \u001b[39m\"\u001b[39m\u001b[39mraw_input was called, but this frontend does not support input requests.\u001b[39m\u001b[39m\"\u001b[39m\n\u001b[1;32m   1176\u001b[0m     )\n\u001b[0;32m-> 1177\u001b[0m \u001b[39mreturn\u001b[39;00m \u001b[39mself\u001b[39;49m\u001b[39m.\u001b[39;49m_input_request(\n\u001b[1;32m   1178\u001b[0m     \u001b[39mstr\u001b[39;49m(prompt),\n\u001b[1;32m   1179\u001b[0m     \u001b[39mself\u001b[39;49m\u001b[39m.\u001b[39;49m_parent_ident[\u001b[39m\"\u001b[39;49m\u001b[39mshell\u001b[39;49m\u001b[39m\"\u001b[39;49m],\n\u001b[1;32m   1180\u001b[0m     \u001b[39mself\u001b[39;49m\u001b[39m.\u001b[39;49mget_parent(\u001b[39m\"\u001b[39;49m\u001b[39mshell\u001b[39;49m\u001b[39m\"\u001b[39;49m),\n\u001b[1;32m   1181\u001b[0m     password\u001b[39m=\u001b[39;49m\u001b[39mFalse\u001b[39;49;00m,\n\u001b[1;32m   1182\u001b[0m )\n",
      "File \u001b[0;32m/Library/Frameworks/Python.framework/Versions/3.10/lib/python3.10/site-packages/ipykernel/kernelbase.py:1219\u001b[0m, in \u001b[0;36mKernel._input_request\u001b[0;34m(self, prompt, ident, parent, password)\u001b[0m\n\u001b[1;32m   1216\u001b[0m             \u001b[39mbreak\u001b[39;00m\n\u001b[1;32m   1217\u001b[0m \u001b[39mexcept\u001b[39;00m \u001b[39mKeyboardInterrupt\u001b[39;00m:\n\u001b[1;32m   1218\u001b[0m     \u001b[39m# re-raise KeyboardInterrupt, to truncate traceback\u001b[39;00m\n\u001b[0;32m-> 1219\u001b[0m     \u001b[39mraise\u001b[39;00m \u001b[39mKeyboardInterrupt\u001b[39;00m(\u001b[39m\"\u001b[39m\u001b[39mInterrupted by user\u001b[39m\u001b[39m\"\u001b[39m) \u001b[39mfrom\u001b[39;00m \u001b[39mNone\u001b[39m\n\u001b[1;32m   1220\u001b[0m \u001b[39mexcept\u001b[39;00m \u001b[39mException\u001b[39;00m:\n\u001b[1;32m   1221\u001b[0m     \u001b[39mself\u001b[39m\u001b[39m.\u001b[39mlog\u001b[39m.\u001b[39mwarning(\u001b[39m\"\u001b[39m\u001b[39mInvalid Message:\u001b[39m\u001b[39m\"\u001b[39m, exc_info\u001b[39m=\u001b[39m\u001b[39mTrue\u001b[39;00m)\n",
      "\u001b[0;31mKeyboardInterrupt\u001b[0m: Interrupted by user"
     ]
    }
   ],
   "source": [
    "class Student:\n",
    "    def getStudentDetails(self):\n",
    "        self.rollno=input(\"Enter Roll Number : \")\n",
    "        self.name = input(\"Enter Name : \")\n",
    "        self.physics =int(input(\"Enter Physics Marks : \"))\n",
    "        self.chemistry = int(input(\"Enter Chemistry Marks : \"))\n",
    "        self.maths = int(input(\"Enter Math Marks : \"))\n",
    "\n",
    "    def printResult(self):\n",
    "        self.percentage = (int)( (self.physics + self.chemistry + self.maths) / 300 * 100 ); \n",
    "        print(self.rollno,self.name, self.percentage)\n",
    "\n",
    "\n",
    "S1=Student()\n",
    "for i in range(0,2):\n",
    "    S1.getStudentDetails()\n",
    "    print(\"Result : \",end=\"\")\n",
    "    S1.printResult()\n",
    "\n"
   ]
  },
  {
   "cell_type": "code",
   "execution_count": null,
   "metadata": {},
   "outputs": [],
   "source": [
    "from tkinter import *\n",
    "\n",
    "app = Tk()\n",
    "app.configure(background=\"Green\")\n",
    "\n",
    "def SetColor():\n",
    "    c = (color.get())\n",
    "    app.configure(background=c)\n",
    "color = StringVar()\n",
    "Entry(app,textvariable=color).grid(row=0,column=0)\n",
    "Button(app, text=\"SET\", command=SetColor).grid(row=1,column=0)\n",
    "app.geometry(\"300x300\")\n",
    "app.mainloop()"
   ]
  },
  {
   "cell_type": "code",
   "execution_count": null,
   "metadata": {},
   "outputs": [
    {
     "name": "stdout",
     "output_type": "stream",
     "text": [
      "1 2 3 4 7 9 58 "
     ]
    }
   ],
   "source": [
    "import threading\n",
    "listItems = [4,2,3,1,58,7,9]\n",
    "def sortArr():\n",
    "    global listItems\n",
    "    listItems = sorted(listItems)\n",
    "    for i in listItems:\n",
    "        print(i, end=' ')\n",
    "\n",
    "mythread = threading.Thread(target=sortArr)\n",
    "mythread.start()"
   ]
  },
  {
   "cell_type": "code",
   "execution_count": null,
   "metadata": {},
   "outputs": [],
   "source": [
    "from tkinter import *\n",
    "\n",
    "app = Tk()\n",
    "\n",
    "app.title(\"Noob XD\")\n",
    "for i in range(0,4):\n",
    "    for j in range(0,3):\n",
    "        Button(app, text=f\"Row {i} Column {j}\", padx=5, pady=5).grid(row=i,column=j)\n",
    "\n",
    "app.mainloop()"
   ]
  },
  {
   "cell_type": "code",
   "execution_count": null,
   "metadata": {},
   "outputs": [
    {
     "name": "stdout",
     "output_type": "stream",
     "text": [
      "46\n",
      "12\n"
     ]
    }
   ],
   "source": [
    "from functools import reduce\n",
    "\n",
    "listItems = [1,3,5,8,9,8,12]\n",
    "\n",
    "print(reduce( lambda x,y:x+y,listItems))\n",
    "print(reduce(lambda x,y: x if x>y else y,listItems))\n",
    "\n"
   ]
  },
  {
   "cell_type": "code",
   "execution_count": null,
   "metadata": {},
   "outputs": [
    {
     "name": "stdout",
     "output_type": "stream",
     "text": [
      "['Kiddo one UpperCase required', 'smh one digit required :(', 'Bruh! ⚚ Srting should be greater then 7 You noob']\n"
     ]
    }
   ],
   "source": [
    "def check_string(str1):\n",
    "    minLen = 7\n",
    "    msg = [\n",
    "        lambda str1: any(x.isupper() for x in str1) or \"Kiddo one UpperCase required\",\n",
    "        lambda str1: any(x.islower() for x in str1) or \"NooB one LowerCase required\",\n",
    "        lambda str1: any(x.isdigit() for x in str1) or \"smh one digit required :(\",\n",
    "        lambda str1: len(str1) >= 7 or \"Bruh! ⚚ Srting should be greater then 7 You noob\",\n",
    "    ]\n",
    "    result = [x for x in [i(str1) for i in msg] if x != True]\n",
    "    if not result:\n",
    "        result.append(\"Valid String\")\n",
    "    return result\n",
    "    \n",
    "s = input(\"Input the string: \")\n",
    "print(check_string(s))"
   ]
  },
  {
   "cell_type": "code",
   "execution_count": null,
   "metadata": {},
   "outputs": [
    {
     "name": "stdout",
     "output_type": "stream",
     "text": [
      "['a', 'o', 'i']\n"
     ]
    }
   ],
   "source": [
    "vowels = ['a','e','i','o','u','A','E','I','O','U']\n",
    "\n",
    "str1 = input(\"Enter the string bro \")\n",
    "print(list(filter( lambda x: x in vowels,str1)))"
   ]
  },
  {
   "cell_type": "code",
   "execution_count": null,
   "metadata": {},
   "outputs": [
    {
     "name": "stdout",
     "output_type": "stream",
     "text": [
      "[81, 36, 25, 9, 25, 36, 64]\n",
      "[729, 216, 125, 27, 125, 216, 512]\n"
     ]
    }
   ],
   "source": [
    "numList = [9,6,5,3,5,6,8]\n",
    "\n",
    "\n",
    "sqResult = list(map(lambda x:x**2,numList))\n",
    "cubeResult = list(map(lambda x:x**3,numList))\n",
    "\n",
    "print(sqResult)\n",
    "print(cubeResult)"
   ]
  },
  {
   "cell_type": "code",
   "execution_count": null,
   "metadata": {},
   "outputs": [
    {
     "name": "stdout",
     "output_type": "stream",
     "text": [
      "Product is :  50\n"
     ]
    }
   ],
   "source": [
    "def product():\n",
    "    def multiply(a,b):\n",
    "        print(\"Product is : \",a*b)\n",
    "    return multiply\n",
    "mul=product()\n",
    "mul(10,5)"
   ]
  },
  {
   "cell_type": "code",
   "execution_count": 65,
   "metadata": {},
   "outputs": [
    {
     "name": "stdout",
     "output_type": "stream",
     "text": [
      "dooe\n"
     ]
    }
   ],
   "source": [
    "str1 = \"Hello World\"\n",
    "print(str1[::-3])"
   ]
  },
  {
   "cell_type": "code",
   "execution_count": 1,
   "metadata": {},
   "outputs": [
    {
     "name": "stdout",
     "output_type": "stream",
     "text": [
      "0\n",
      "1\n",
      "2\n",
      "3\n",
      "4\n"
     ]
    }
   ],
   "source": [
    "for i in range(5):\n",
    "    print(i)"
   ]
  }
 ],
 "metadata": {
  "kernelspec": {
   "display_name": "Python 3.10.5 64-bit",
   "language": "python",
   "name": "python3"
  },
  "language_info": {
   "codemirror_mode": {
    "name": "ipython",
    "version": 3
   },
   "file_extension": ".py",
   "mimetype": "text/x-python",
   "name": "python",
   "nbconvert_exporter": "python",
   "pygments_lexer": "ipython3",
   "version": "3.10.5"
  },
  "orig_nbformat": 4,
  "vscode": {
   "interpreter": {
    "hash": "aee8b7b246df8f9039afb4144a1f6fd8d2ca17a180786b69acc140d282b71a49"
   }
  }
 },
 "nbformat": 4,
 "nbformat_minor": 2
}
