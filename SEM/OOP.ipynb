{
 "cells": [
  {
   "cell_type": "code",
   "execution_count": 6,
   "metadata": {},
   "outputs": [
    {
     "name": "stdout",
     "output_type": "stream",
     "text": [
      "69\n"
     ]
    }
   ],
   "source": [
    "class Customer:\n",
    "    def __init__(self,name,age):\n",
    "        self.name = name\n",
    "        self.age = age\n",
    "\n",
    "# Normal \n",
    "\n",
    "# customer1 = Customer(\"Vikash\",19)\n",
    "# customer2 = Customer(\"MeowMeow\",69)\n",
    "\n",
    "# Scalable Solution for multiple instances\n",
    "\n",
    "customers = [Customer(\"Meow Cat\", 96),Customer(\"Habibi Cat\",69)]\n",
    "print(customers[1].age)\n",
    "\n",
    "\n",
    "\n"
   ]
  },
  {
   "cell_type": "code",
   "execution_count": 41,
   "metadata": {},
   "outputs": [
    {
     "name": "stdout",
     "output_type": "stream",
     "text": [
      "True\n",
      "MeoW   1\n",
      "Dank Thala   9\n",
      "Monk   99\n",
      "MeoW   69\n"
     ]
    }
   ],
   "source": [
    "from asyncio import FastChildWatcher\n",
    "\n",
    "\n",
    "class Customer2:\n",
    "    def __init__(self,name,age):\n",
    "        self.name = name\n",
    "        self.age = age\n",
    "    def update_age(self,new_age):\n",
    "        self.age = new_age\n",
    "\n",
    "    def __str__(self):\n",
    "        return '{},{},{},{}'.format(self.name, \" is a noob and he is \", self.age, \"Years old kid\")\n",
    "    \n",
    "    def print_all_customer(Customer2):\n",
    "        for c in customers2:\n",
    "            print(c.name,\" \",c.age)\n",
    "    \n",
    "    def __eq__(self, other):\n",
    "        if self.name == other.name :\n",
    "            return True\n",
    "        else:\n",
    "            return False\n",
    "\n",
    "customers2 = [\n",
    "            Customer2(\"MeoW\",69),\n",
    "            Customer2(\"Dank Thala\",9),\n",
    "            Customer2(\"Monk\",99),\n",
    "            Customer2(\"MeoW\",69),\n",
    "            ]\n",
    "\n",
    "customers2[0].update_age(1)\n",
    "\n",
    "print(customers2[0] == customers2[3])\n",
    "\n",
    "Customer2.print_all_customer(customers2)\n",
    "\n",
    "\n",
    "# print(customers2[0])\n",
    "\n",
    "# print(customers2[0].name, customers2[0].age)\n"
   ]
  },
  {
   "cell_type": "code",
   "execution_count": null,
   "metadata": {},
   "outputs": [],
   "source": []
  }
 ],
 "metadata": {
  "kernelspec": {
   "display_name": "Python 3.10.4 ('Dev')",
   "language": "python",
   "name": "python3"
  },
  "language_info": {
   "codemirror_mode": {
    "name": "ipython",
    "version": 3
   },
   "file_extension": ".py",
   "mimetype": "text/x-python",
   "name": "python",
   "nbconvert_exporter": "python",
   "pygments_lexer": "ipython3",
   "version": "3.10.4"
  },
  "orig_nbformat": 4,
  "vscode": {
   "interpreter": {
    "hash": "6bdad4c9066877ec84133d812a3403c02ee798ca52fe02f6fd9b6802a2a3fd92"
   }
  }
 },
 "nbformat": 4,
 "nbformat_minor": 2
}
