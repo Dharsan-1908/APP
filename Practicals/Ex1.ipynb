{
 "cells": [
  {
   "cell_type": "code",
   "execution_count": 1,
   "metadata": {},
   "outputs": [
    {
     "name": "stdout",
     "output_type": "stream",
     "text": [
      "1000\n",
      "1040\n",
      "1080\n",
      "1120\n",
      "1160\n",
      "1200\n",
      "1240\n",
      "1280\n",
      "1320\n",
      "1360\n",
      "1400\n",
      "1440\n",
      "1480\n",
      "1520\n",
      "1560\n",
      "1600\n",
      "1640\n",
      "1680\n",
      "1720\n",
      "1760\n",
      "1800\n",
      "1840\n",
      "1880\n",
      "1920\n",
      "1960\n"
     ]
    }
   ],
   "source": [
    "for i in range(1000, 2000):\n",
    "    if i % 8 == 0 and i % 5 == 0:\n",
    "        print(i)"
   ]
  },
  {
   "cell_type": "code",
   "execution_count": 4,
   "metadata": {},
   "outputs": [
    {
     "name": "stdout",
     "output_type": "stream",
     "text": [
      "Well guessed !\n"
     ]
    }
   ],
   "source": [
    "import random\n",
    "randNum = random.randint(1,10)\n",
    "guessNum = 0\n",
    "\n",
    "while randNum != guessNum:\n",
    "    guessNum = int(input(\"Enter the number between 1, 10\"))\n",
    "    \n",
    "print(\"Well guessed !\")"
   ]
  },
  {
   "cell_type": "code",
   "execution_count": 11,
   "metadata": {},
   "outputs": [
    {
     "name": "stdout",
     "output_type": "stream",
     "text": [
      "\n",
      "* \n",
      "* * \n",
      "* * * \n",
      "* * * * \n",
      "* * * * * \n",
      "* * * * * * \n",
      "* * * * * \n",
      "* * * * \n",
      "* * * \n",
      "* * \n",
      "* \n"
     ]
    }
   ],
   "source": [
    "for i in range(6):\n",
    "    for j in range(i):\n",
    "        print(\"* \", end=\"\")\n",
    "    print(\"\")\n",
    "\n",
    "for i in range(6,0, -1):\n",
    "    for j in range(i):\n",
    "        print(\"* \", end=\"\")\n",
    "    print('')"
   ]
  },
  {
   "cell_type": "code",
   "execution_count": 18,
   "metadata": {},
   "outputs": [
    {
     "name": "stdout",
     "output_type": "stream",
     "text": [
      "g\n",
      "n\n",
      "i\n",
      "r\n",
      "t\n",
      "s\n"
     ]
    }
   ],
   "source": [
    "string = input(\"Enter the string\")\n",
    "\n",
    "strLen = len(string)\n",
    "\n",
    "for ch in range(strLen-1, -1, -1):\n",
    "    print(string[ch])"
   ]
  },
  {
   "cell_type": "code",
   "execution_count": 19,
   "metadata": {},
   "outputs": [
    {
     "name": "stdout",
     "output_type": "stream",
     "text": [
      "[[0, 0, 0, 0], [0, 1, 2, 3], [0, 2, 4, 6]]\n"
     ]
    }
   ],
   "source": [
    "row = int(input())\n",
    "col = int(input())\n",
    "\n",
    "array = [[0 for c in range(col)] for r in range(row) ]\n",
    "\n",
    "for r in range(row):\n",
    "    for c in range(col):\n",
    "        array[r][c]  = r*c\n",
    "        \n",
    "print(array)"
   ]
  },
  {
   "cell_type": "code",
   "execution_count": 22,
   "metadata": {},
   "outputs": [
    {
     "name": "stdout",
     "output_type": "stream",
     "text": [
      "Number of digit is:  4 Number of Alph is:  6\n"
     ]
    }
   ],
   "source": [
    "strring = input(\"Enter the string: \")\n",
    "d=a = 0\n",
    "\n",
    "for i in strring:\n",
    "    if i.isdigit():\n",
    "        d+=1\n",
    "    elif i.isalpha():\n",
    "        a+=1\n",
    "    else:\n",
    "        pass\n",
    "\n",
    "print(\"Number of digit is: \",d, \"Number of Alph is: \",a)"
   ]
  },
  {
   "cell_type": "code",
   "execution_count": null,
   "metadata": {},
   "outputs": [],
   "source": [
    "items = []\n",
    "for i in range(100,400):\n",
    "    s = str(i)\n",
    "    if(int(s[0]%2==0)) and (int(s[1]%2==0)) and (int(s[2] % 2 == 0)):\n",
    "        items.append(s)\n",
    "print(items)"
   ]
  },
  {
   "cell_type": "code",
   "execution_count": null,
   "metadata": {},
   "outputs": [
    {
     "name": "stdout",
     "output_type": "stream",
     "text": [
      "999999999\n",
      "88888888\n",
      "7777777\n",
      "666666\n",
      "55555\n",
      "4444\n",
      "333\n",
      "22\n",
      "1\n"
     ]
    }
   ],
   "source": [
    "for i in range(9,0,-1):\n",
    "    for j in range(i):\n",
    "        print(i,end=\"\")\n",
    "    print('')"
   ]
  },
  {
   "cell_type": "code",
   "execution_count": null,
   "metadata": {},
   "outputs": [
    {
     "name": "stdout",
     "output_type": "stream",
     "text": [
      "False\n"
     ]
    }
   ],
   "source": [
    "x = int(input())\n",
    "y = int(input())\n",
    "\n",
    "if x == y or (x+y) == 5 or abs(x-y)==5:\n",
    "    print(\"True\")\n",
    "else:\n",
    "    print(\"False\")"
   ]
  },
  {
   "cell_type": "code",
   "execution_count": null,
   "metadata": {},
   "outputs": [],
   "source": [
    "string = input(\"Enter a string: \")\n",
    "str_frq = {}\n",
    "\n",
    "for i in string:\n",
    "    if i in str_frq:\n",
    "        str_frq[i] +=1\n",
    "    else:\n",
    "        str_frq[i] = 1\n",
    "        \n",
    "print(str(str_frq))"
   ]
  },
  {
   "cell_type": "code",
   "execution_count": 38,
   "metadata": {},
   "outputs": [
    {
     "name": "stdout",
     "output_type": "stream",
     "text": [
      "{0, 1, 2, 5, 6}\n"
     ]
    }
   ],
   "source": [
    "n = input()\n",
    "all_nums = [1,2,3,4,5,6,7,8,9]\n",
    "n = set([int(i) for i in n])\n",
    "n = n.symmetric_difference(all_nums)\n",
    "print(n)"
   ]
  }
 ],
 "metadata": {
  "kernelspec": {
   "display_name": "Python 3.10.4 ('Dev')",
   "language": "python",
   "name": "python3"
  },
  "language_info": {
   "codemirror_mode": {
    "name": "ipython",
    "version": 3
   },
   "file_extension": ".py",
   "mimetype": "text/x-python",
   "name": "python",
   "nbconvert_exporter": "python",
   "pygments_lexer": "ipython3",
   "version": "3.10.4"
  },
  "orig_nbformat": 4,
  "vscode": {
   "interpreter": {
    "hash": "6bdad4c9066877ec84133d812a3403c02ee798ca52fe02f6fd9b6802a2a3fd92"
   }
  }
 },
 "nbformat": 4,
 "nbformat_minor": 2
}
