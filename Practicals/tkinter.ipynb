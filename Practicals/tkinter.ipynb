{
 "cells": [
  {
   "cell_type": "code",
   "execution_count": 18,
   "metadata": {},
   "outputs": [],
   "source": [
    "from tkinter import *\n",
    "\n",
    "app = Tk()\n",
    "\n",
    "app.title(\"Hell Noob\")\n",
    "\n",
    "name = Label(app,text=\"Regno\").grid(row = 0 , column=0)\n",
    "intVar = IntVar(value=2)\n",
    "strVar = StringVar()\n",
    "cb = Checkbutton(app,  text=\"Noob bro \").grid(row = 0, column=1)\n",
    "app.geometry(\"400x400\")\n",
    "app.mainloop()\n"
   ]
  }
 ],
 "metadata": {
  "kernelspec": {
   "display_name": "Python 3.10.4 ('Dev')",
   "language": "python",
   "name": "python3"
  },
  "language_info": {
   "codemirror_mode": {
    "name": "ipython",
    "version": 3
   },
   "file_extension": ".py",
   "mimetype": "text/x-python",
   "name": "python",
   "nbconvert_exporter": "python",
   "pygments_lexer": "ipython3",
   "version": "3.10.4"
  },
  "orig_nbformat": 4,
  "vscode": {
   "interpreter": {
    "hash": "6bdad4c9066877ec84133d812a3403c02ee798ca52fe02f6fd9b6802a2a3fd92"
   }
  }
 },
 "nbformat": 4,
 "nbformat_minor": 2
}
